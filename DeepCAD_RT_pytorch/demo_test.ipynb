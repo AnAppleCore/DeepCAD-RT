{
 "cells": [
  {
   "cell_type": "code",
   "execution_count": 1,
   "metadata": {},
   "outputs": [],
   "source": [
    "from deepcad.test_collection import testing_class\n",
    "from deepcad.movie_display import display\n",
    "from deepcad.utils import get_first_filename,download_demo"
   ]
  },
  {
   "cell_type": "code",
   "execution_count": 2,
   "metadata": {},
   "outputs": [],
   "source": [
    "datasets_path = '/data/yanhongwei/SIM/noisy/test'\n",
    "denoise_model = 'valid_202410280119'"
   ]
  },
  {
   "cell_type": "code",
   "execution_count": 3,
   "metadata": {},
   "outputs": [],
   "source": [
    "test_datasize = 100000\n",
    "GPU = '0'\n",
    "patch_xy = 150\n",
    "patch_t = 150\n",
    "overlap_factor = 0.6\n",
    "num_workers = 4 "
   ]
  },
  {
   "cell_type": "code",
   "execution_count": 4,
   "metadata": {},
   "outputs": [],
   "source": [
    "visualize_images_per_epoch = False\n",
    "display_images = False"
   ]
  },
  {
   "cell_type": "code",
   "execution_count": 5,
   "metadata": {},
   "outputs": [],
   "source": [
    "test_dict = {\n",
    "    # dataset dependent parameters\n",
    "    'patch_x': patch_xy,\n",
    "    'patch_y': patch_xy,\n",
    "    'patch_t': patch_t,\n",
    "    'overlap_factor':overlap_factor,\n",
    "    'scale_factor': 1,\n",
    "    'test_datasize': test_datasize,\n",
    "    'datasets_path': datasets_path,\n",
    "    'pth_dir': '/data/yanhongwei/SSR_results',\n",
    "    'denoise_model' : denoise_model,\n",
    "    'output_dir' : '/data/yanhongwei/SSR_results',\n",
    "    # network related parameters\n",
    "    'fmap': 16,\n",
    "    'GPU': GPU,\n",
    "    'num_workers': num_workers,\n",
    "    'visualize_images_per_epoch': visualize_images_per_epoch\n",
    "}"
   ]
  },
  {
   "cell_type": "code",
   "execution_count": 6,
   "metadata": {},
   "outputs": [
    {
     "name": "stdout",
     "output_type": "stream",
     "text": [
      "\u001b[1;31mTesting parameters -----> \u001b[0m\n",
      "{'overlap_factor': 0.6, 'datasets_path': '/data/yanhongwei/SIM/noisy/test', 'fmap': 16, 'output_dir': '/data/yanhongwei/SSR_results', 'pth_dir': '/data/yanhongwei/SSR_results', 'batch_size': 1, 'patch_t': 150, 'patch_x': 150, 'patch_y': 150, 'gap_y': 60, 'gap_x': 60, 'gap_t': 60, 'GPU': '0', 'ngpu': 1, 'num_workers': 4, 'scale_factor': 1, 'test_datasize': 100000, 'denoise_model': 'valid_202410280119', 'visualize_images_per_epoch': False, 'colab_display': False, 'result_display': ''}\n",
      "\u001b[1;31mStacks for processing -----> \u001b[0m\n",
      "Total stack number ----->  3\n",
      "512_60_3_250_80_0.7_1.059.tif\n",
      "512_60_3_300_100_0.7_1.058.tif\n",
      "512_60_3_400_170_0.7_1.0510.tif\n",
      "\u001b[1;31mUsing 1 GPU(s) for testing -----> \u001b[0m\n",
      "Testing the last model by default:\n",
      "[Model 1/1, E_10_Iter_6192.pth] [Stack 1/3, 512_60_3_250_80_0.7_1.059.tif] [Patch 2176/2176] [Time Cost: 119 s] [ETA: 0 s]       \n",
      "[Model 1/1, E_10_Iter_6192.pth] [Stack 2/3, 512_60_3_300_100_0.7_1.058.tif] [Patch 2176/2176] [Time Cost: 112 s] [ETA: 0 s]       \n",
      "[Model 1/1, E_10_Iter_6192.pth] [Stack 3/3, 512_60_3_400_170_0.7_1.0510.tif] [Patch 2176/2176] [Time Cost: 113 s] [ETA: 0 s]       \n",
      " Testing finished. All results saved to disk.\n"
     ]
    }
   ],
   "source": [
    "tc = testing_class(test_dict)\n",
    "tc.run()"
   ]
  }
 ],
 "metadata": {
  "kernelspec": {
   "display_name": "ssr",
   "language": "python",
   "name": "python3"
  },
  "language_info": {
   "codemirror_mode": {
    "name": "ipython",
    "version": 3
   },
   "file_extension": ".py",
   "mimetype": "text/x-python",
   "name": "python",
   "nbconvert_exporter": "python",
   "pygments_lexer": "ipython3",
   "version": "3.10.13"
  }
 },
 "nbformat": 4,
 "nbformat_minor": 2
}
