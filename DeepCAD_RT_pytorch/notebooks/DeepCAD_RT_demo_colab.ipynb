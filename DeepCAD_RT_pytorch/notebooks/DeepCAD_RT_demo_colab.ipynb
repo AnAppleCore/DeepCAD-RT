{
  "nbformat": 4,
  "nbformat_minor": 0,
  "metadata": {
    "colab": {
      "name": "DeepCAD_RT_demo_colab.ipynb",
      "provenance": [],
      "collapsed_sections": []
    },
    "kernelspec": {
      "name": "python3",
      "display_name": "Python 3"
    },
    "language_info": {
      "name": "python"
    },
    "accelerator": "GPU"
  },
  "cells": [
    {
      "cell_type": "markdown",
      "source": [
        "# **DeepCAD-RT: A cloud-based demo for DeepCAD-RT**\n",
        "<img src=\"https://github.com/cabooster/DeepCAD-RT/blob/page/images/logo.PNG?raw=true\" width = \"750\" height = \"180\" align=center />\n",
        "\n",
        "---"
      ],
      "metadata": {
        "id": "yFtyDjHJucBd"
      }
    },
    {
      "cell_type": "markdown",
      "source": [
        "## <font color=#FF8247>**1. Initialization**</font>"
      ],
      "metadata": {
        "id": "bhvus4aAqBl7"
      }
    },
    {
      "cell_type": "markdown",
      "source": [
        "Install DeepCAD-RT (by default the torch GPU version is installed in COLAB notebook)"
      ],
      "metadata": {
        "id": "YMo5KX_0qhkR"
      }
    },
    {
      "cell_type": "code",
      "source": [
        "!pip install deepcad"
      ],
      "metadata": {
        "id": "UwcoNRB4UmWx",
        "colab": {
          "base_uri": "https://localhost:8080/"
        },
        "outputId": "e794134b-62f5-4ed5-a4c0-a70399f213d6"
      },
      "execution_count": null,
      "outputs": [
        {
          "output_type": "stream",
          "name": "stdout",
          "text": [
            "Collecting deepcad\n",
            "  Downloading deepcad-0.5.2.tar.gz (23 kB)\n",
            "Requirement already satisfied: matplotlib in /usr/local/lib/python3.7/dist-packages (from deepcad) (3.2.2)\n",
            "Requirement already satisfied: pyyaml in /usr/local/lib/python3.7/dist-packages (from deepcad) (3.13)\n",
            "Requirement already satisfied: tifffile in /usr/local/lib/python3.7/dist-packages (from deepcad) (2021.11.2)\n",
            "Requirement already satisfied: scikit-image in /usr/local/lib/python3.7/dist-packages (from deepcad) (0.18.3)\n",
            "Requirement already satisfied: opencv-python in /usr/local/lib/python3.7/dist-packages (from deepcad) (4.1.2.30)\n",
            "Collecting csbdeep\n",
            "  Downloading csbdeep-0.6.3-py2.py3-none-any.whl (73 kB)\n",
            "\u001b[K     |████████████████████████████████| 73 kB 1.6 MB/s \n",
            "\u001b[?25hCollecting gdown==4.2.0\n",
            "  Downloading gdown-4.2.0.tar.gz (13 kB)\n",
            "  Installing build dependencies ... \u001b[?25l\u001b[?25hdone\n",
            "  Getting requirements to build wheel ... \u001b[?25l\u001b[?25hdone\n",
            "    Preparing wheel metadata ... \u001b[?25l\u001b[?25hdone\n",
            "Requirement already satisfied: requests[socks] in /usr/local/lib/python3.7/dist-packages (from gdown==4.2.0->deepcad) (2.23.0)\n",
            "Requirement already satisfied: six in /usr/local/lib/python3.7/dist-packages (from gdown==4.2.0->deepcad) (1.15.0)\n",
            "Requirement already satisfied: filelock in /usr/local/lib/python3.7/dist-packages (from gdown==4.2.0->deepcad) (3.6.0)\n",
            "Requirement already satisfied: tqdm in /usr/local/lib/python3.7/dist-packages (from gdown==4.2.0->deepcad) (4.63.0)\n",
            "Requirement already satisfied: beautifulsoup4 in /usr/local/lib/python3.7/dist-packages (from gdown==4.2.0->deepcad) (4.6.3)\n",
            "Requirement already satisfied: numpy in /usr/local/lib/python3.7/dist-packages (from csbdeep->deepcad) (1.21.5)\n",
            "Collecting h5py<3\n",
            "  Downloading h5py-2.10.0-cp37-cp37m-manylinux1_x86_64.whl (2.9 MB)\n",
            "\u001b[K     |████████████████████████████████| 2.9 MB 28.6 MB/s \n",
            "\u001b[?25hRequirement already satisfied: scipy in /usr/local/lib/python3.7/dist-packages (from csbdeep->deepcad) (1.4.1)\n",
            "Requirement already satisfied: pyparsing!=2.0.4,!=2.1.2,!=2.1.6,>=2.0.1 in /usr/local/lib/python3.7/dist-packages (from matplotlib->deepcad) (3.0.7)\n",
            "Requirement already satisfied: kiwisolver>=1.0.1 in /usr/local/lib/python3.7/dist-packages (from matplotlib->deepcad) (1.3.2)\n",
            "Requirement already satisfied: python-dateutil>=2.1 in /usr/local/lib/python3.7/dist-packages (from matplotlib->deepcad) (2.8.2)\n",
            "Requirement already satisfied: cycler>=0.10 in /usr/local/lib/python3.7/dist-packages (from matplotlib->deepcad) (0.11.0)\n",
            "Requirement already satisfied: chardet<4,>=3.0.2 in /usr/local/lib/python3.7/dist-packages (from requests[socks]->gdown==4.2.0->deepcad) (3.0.4)\n",
            "Requirement already satisfied: idna<3,>=2.5 in /usr/local/lib/python3.7/dist-packages (from requests[socks]->gdown==4.2.0->deepcad) (2.10)\n",
            "Requirement already satisfied: urllib3!=1.25.0,!=1.25.1,<1.26,>=1.21.1 in /usr/local/lib/python3.7/dist-packages (from requests[socks]->gdown==4.2.0->deepcad) (1.24.3)\n",
            "Requirement already satisfied: certifi>=2017.4.17 in /usr/local/lib/python3.7/dist-packages (from requests[socks]->gdown==4.2.0->deepcad) (2021.10.8)\n",
            "Requirement already satisfied: PySocks!=1.5.7,>=1.5.6 in /usr/local/lib/python3.7/dist-packages (from requests[socks]->gdown==4.2.0->deepcad) (1.7.1)\n",
            "Requirement already satisfied: pillow!=7.1.0,!=7.1.1,>=4.3.0 in /usr/local/lib/python3.7/dist-packages (from scikit-image->deepcad) (7.1.2)\n",
            "Requirement already satisfied: networkx>=2.0 in /usr/local/lib/python3.7/dist-packages (from scikit-image->deepcad) (2.6.3)\n",
            "Requirement already satisfied: imageio>=2.3.0 in /usr/local/lib/python3.7/dist-packages (from scikit-image->deepcad) (2.4.1)\n",
            "Requirement already satisfied: PyWavelets>=1.1.1 in /usr/local/lib/python3.7/dist-packages (from scikit-image->deepcad) (1.2.0)\n",
            "Building wheels for collected packages: deepcad, gdown\n",
            "  Building wheel for deepcad (setup.py) ... \u001b[?25l\u001b[?25hdone\n",
            "  Created wheel for deepcad: filename=deepcad-0.5.2-py3-none-any.whl size=28039 sha256=678887004846f0f106935c3132c1719725c66113bfc4b35c3404b376e4ae0f29\n",
            "  Stored in directory: /root/.cache/pip/wheels/cf/c0/c9/48d1a4d134cd69bf107f2b29d7675d479341662bd1da134114\n",
            "  Building wheel for gdown (PEP 517) ... \u001b[?25l\u001b[?25hdone\n",
            "  Created wheel for gdown: filename=gdown-4.2.0-py3-none-any.whl size=14262 sha256=65f10d694f16b4d37c8ef5b745e717c19092f0b6b19ed9fe9233614cefcef303\n",
            "  Stored in directory: /root/.cache/pip/wheels/8c/17/ff/58721d1fabdb87c21a0529948cf39e2be9af90ddbe4ad65944\n",
            "Successfully built deepcad gdown\n",
            "Installing collected packages: h5py, gdown, csbdeep, deepcad\n",
            "  Attempting uninstall: h5py\n",
            "    Found existing installation: h5py 3.1.0\n",
            "    Uninstalling h5py-3.1.0:\n",
            "      Successfully uninstalled h5py-3.1.0\n",
            "  Attempting uninstall: gdown\n",
            "    Found existing installation: gdown 4.2.2\n",
            "    Uninstalling gdown-4.2.2:\n",
            "      Successfully uninstalled gdown-4.2.2\n",
            "\u001b[31mERROR: pip's dependency resolver does not currently take into account all the packages that are installed. This behaviour is the source of the following dependency conflicts.\n",
            "tensorflow 2.8.0 requires tf-estimator-nightly==2.8.0.dev2021122109, which is not installed.\u001b[0m\n",
            "Successfully installed csbdeep-0.6.3 deepcad-0.5.2 gdown-4.2.0 h5py-2.10.0\n"
          ]
        }
      ]
    },
    {
      "cell_type": "markdown",
      "source": [
        "## <font color=#FF8247>**2. Check GPU support**</font>"
      ],
      "metadata": {
        "id": "QKqVmDcFuFxQ"
      }
    },
    {
      "cell_type": "markdown",
      "source": [
        "The  implement of DeepCAD-RT need GPU support. If you do not have GPU support, please follow the following instruction."
      ],
      "metadata": {
        "id": "HNEc07r4ZIu_"
      }
    },
    {
      "cell_type": "code",
      "source": [
        "import torch\n",
        "\n",
        "if torch.cuda.is_available():\n",
        "    print('\\033[1;31mGPU accessiable. Use GPU for computation.\\033[0m')\n",
        "    gpu_id = torch.cuda.current_device()\n",
        "    total_memory = torch.cuda.get_device_properties(gpu_id).total_memory/1024/1024\n",
        "    alloc_memory = torch.cuda.memory_allocated(0)/1024/1024\n",
        "    print('GPU ID: ', gpu_id, '|', torch.cuda.get_device_name(), \\\n",
        "          '| Memory: {:.0f} MB'.format(total_memory))\n",
        "    ! nvcc --version\n",
        "    print('PyTorch version: ', torch.__version__)\n",
        "else:\n",
        "    print('\\033[1;31mNo GPU support. Please enable GPUs for the notebook:\\033[0m')\n",
        "    print(' 1. Navigate to Edit → Notebook Settings')\n",
        "    print(' 2. Select GPU from the Hardware Accelerator drop-down')"
      ],
      "metadata": {
        "colab": {
          "base_uri": "https://localhost:8080/"
        },
        "id": "odTKv1zeWub0",
        "outputId": "2f6644c2-ef43-417d-848d-7833e092672d"
      },
      "execution_count": null,
      "outputs": [
        {
          "output_type": "stream",
          "name": "stdout",
          "text": [
            "\u001b[1;31mGPU accessiable. Use GPU for computation.\u001b[0m\n",
            "GPU ID:  0 | Tesla K80 | Memory: 11441 MB\n",
            "nvcc: NVIDIA (R) Cuda compiler driver\n",
            "Copyright (c) 2005-2020 NVIDIA Corporation\n",
            "Built on Mon_Oct_12_20:09:46_PDT_2020\n",
            "Cuda compilation tools, release 11.1, V11.1.105\n",
            "Build cuda_11.1.TC455_06.29190527_0\n",
            "PyTorch version:  1.10.0+cu111\n"
          ]
        }
      ]
    },
    {
      "cell_type": "markdown",
      "source": [
        "## <font color=#FF8247>**Option 1: Start the training process**</font>"
      ],
      "metadata": {
        "id": "06EUtJn60zu3"
      }
    },
    {
      "cell_type": "code",
      "source": [
        "from deepcad.train_collection import training_class\n",
        "from deepcad.movie_display import display\n",
        "from deepcad.utils import get_first_filename, download_demo"
      ],
      "metadata": {
        "id": "RyuU3Amg2TQg"
      },
      "execution_count": null,
      "outputs": []
    },
    {
      "cell_type": "markdown",
      "source": [
        "### Select file(s) to be processed (download if not present)\n",
        "\n",
        "*   The `download_demo` function will download the specific file for you and return the complete path to the image and the best pretrained model files,  which will be stored in your `/content/datasets` and `/content/pth` directory, respectively. \n",
        "\n",
        "*   If you adapt this demo for your own data, make sure to pass the datasets folder name of your file(s)."
      ],
      "metadata": {
        "id": "_3gC347DEmyZ"
      }
    },
    {
      "cell_type": "code",
      "source": [
        "download_demo_file = True\n",
        "if download_demo_file:\n",
        "    file_name='fish_localbrain' # select the demo file you want to train (e.g. 'ATP_3D', 'fish_localbrain', 'NP_3D', ...)\n",
        "    datasets_path, _ =download_demo(download_filename=file_name)\n",
        "else:\n",
        "    datasets_path = 'datasets/2RPN-1000'  # folder containing files for training"
      ],
      "metadata": {
        "id": "niNqCREo_-uo",
        "colab": {
          "base_uri": "https://localhost:8080/"
        },
        "outputId": "4525cd74-c3ae-4d76-9017-1b5f2bac822a"
      },
      "execution_count": null,
      "outputs": [
        {
          "output_type": "stream",
          "name": "stderr",
          "text": [
            "Downloading...\n",
            "From: https://zenodo.org/record/5808571/files/fish_localbrain_demo.zip?download=1\n",
            "To: /content/datasets/fish_localbrain_demo.zip\n",
            "100%|██████████| 2.54G/2.54G [05:24<00:00, 7.84MB/s]\n",
            "Downloading...\n",
            "From: https://zenodo.org/record/5808571/files/fish_localbrain_E_20_Iter_6175.pth?download=1\n",
            "To: /content/pth/fish_localbrain_best_model_demo/best_model.pth\n",
            "100%|██████████| 4.10M/4.10M [00:07<00:00, 542kB/s]\n",
            "Downloading...\n",
            "From: https://zenodo.org/record/5808571/files/fish_localbrain_para.yaml?download=1\n",
            "To: /content/pth/fish_localbrain_best_model_demo/best_model.yaml\n",
            "100%|██████████| 337/337 [00:00<00:00, 505kB/s]\n"
          ]
        }
      ]
    },
    {
      "cell_type": "markdown",
      "source": [
        "### Set up some parameters for training\n",
        "Default setting shows the parameters suitable for demo file. You can change the training parameters accroding to your training data and device. For supervising the training process, you can set the flag for result storage to `True`."
      ],
      "metadata": {
        "id": "2zh3EGyxFEOy"
      }
    },
    {
      "cell_type": "code",
      "source": [
        "n_epochs = 3               # number of training epochs\n",
        "GPU = '0'                 # the index of GPU you will use for computation (e.g. '0', '0,1', '0,1,2')\n",
        "train_datasets_size = 3000         # datasets size for training (how many patches)\n",
        "patch_xyt = 150              # the width, height, length of 3D patches (use isotropic patch size by default)\n",
        "overlap_factor = 0.4           # the overlap factor between two adjacent patches\n",
        "num_workers = 2              # if you use Windows system, set this to 0.\n",
        "\n",
        "# Setup some parameters for result visualization during training period (optional)\n",
        "save_test_images_per_epoch = True  # flag to select whether save inference image after each epoch in pth path"
      ],
      "metadata": {
        "id": "t_dBgQa7B86l"
      },
      "execution_count": null,
      "outputs": []
    },
    {
      "cell_type": "markdown",
      "source": [
        "### Create a training class object with the specified parameters\n",
        "You will creat a parameters object by passing all the parameters as a single dictionary. Parameters not defined in the dictionary will assume their default values. If you want to change these parameters, please refer to DeepCAD-RT Development mode."
      ],
      "metadata": {
        "id": "_tKOdVTsFMHY"
      }
    },
    {
      "cell_type": "code",
      "source": [
        "train_dict = {\n",
        "    # dataset dependent parameters\n",
        "    'patch_x': patch_xyt,                # you can change these params if use anisotropy patch size\n",
        "    'patch_y': patch_xyt,\n",
        "    'patch_t': patch_xyt,\n",
        "    'overlap_factor':overlap_factor,\n",
        "    'scale_factor': 1,                  # the factor for image intensity scaling\n",
        "    'select_img_num': 2000,              # select the number of images used for training (use 2000 frames in colab)\n",
        "    'train_datasets_size': train_datasets_size,\n",
        "    'datasets_path': datasets_path,\n",
        "    'pth_dir': './pth',\n",
        "    \n",
        "    # network related parameters\n",
        "    'n_epochs': n_epochs,\n",
        "    'lr': 0.00005,                       # initial learning rate\n",
        "    'b1': 0.5,                          # Adam: bata1\n",
        "    'b2': 0.999,                         # Adam: bata2\n",
        "    'fmap': 16,                          # number of feature maps\n",
        "    'GPU': GPU,\n",
        "    'num_workers': num_workers,\n",
        "    'visualize_images_per_epoch': False,\n",
        "    'save_test_images_per_epoch': save_test_images_per_epoch\n",
        "}\n",
        "tc = training_class(train_dict)"
      ],
      "metadata": {
        "id": "GdLk5BXiCCY3",
        "colab": {
          "base_uri": "https://localhost:8080/"
        },
        "outputId": "a36defe8-6ace-490a-f0c0-e747845ffa4a"
      },
      "execution_count": null,
      "outputs": [
        {
          "output_type": "stream",
          "name": "stdout",
          "text": [
            "\u001b[1;31mTraining parameters -----> \u001b[0m\n",
            "{'overlap_factor': 0.4, 'datasets_path': 'datasets/fish_localbrain_demo', 'n_epochs': 3, 'fmap': 16, 'output_dir': './results', 'pth_dir': './pth', 'batch_size': 1, 'patch_t': 150, 'patch_x': 150, 'patch_y': 150, 'gap_y': 90, 'gap_x': 90, 'gap_t': 90, 'lr': 5e-05, 'b1': 0.5, 'b2': 0.999, 'GPU': '0', 'ngpu': 1, 'num_workers': 2, 'scale_factor': 1, 'train_datasets_size': 3000, 'select_img_num': 2000, 'test_datasize': 400, 'visualize_images_per_epoch': False, 'save_test_images_per_epoch': True}\n"
          ]
        }
      ]
    },
    {
      "cell_type": "markdown",
      "source": [
        "### Start training\n",
        "The training models and visual results can be downloaded in /content/pth folder.\n",
        "\n",
        "Colab notebook needs longer time to train and test because of the limited GPU performance offered by Colab. It takes ~1100 seconds per epoch for training on GeForce RTX 3090 using default parameters."
      ],
      "metadata": {
        "id": "gnEGOjTOFQPI"
      }
    },
    {
      "cell_type": "code",
      "source": [
        "tc.run()"
      ],
      "metadata": {
        "id": "kkIdGXkHCZkD",
        "colab": {
          "base_uri": "https://localhost:8080/"
        },
        "outputId": "13ea8d81-e7d8-4fea-bbff-50836e622665"
      },
      "execution_count": null,
      "outputs": [
        {
          "output_type": "stream",
          "name": "stdout",
          "text": [
            "\u001b[1;31mImage list for training -----> \u001b[0m\n",
            "Total stack number ----->  1\n",
            "Noise image name ----->  fish_localbrain.tif\n",
            "Noise image shape ----->  (2000, 492, 492)\n",
            "\u001b[1;31mUsing 1 GPU(s) for training -----> \u001b[0m\n",
            "[Epoch 1/3] [Batch 3024/3024] [Total loss: 46218.43, L1 Loss: 203.61, L2 Loss: 92233.24] [ETA: 5:35:31] [Time cost: 10113 s]      \n",
            " Testing model of epoch 1 on the first noisy file ----->\n",
            "Testing image name ----->  fish_localbrain.tif\n",
            "Testing image shape ----->  (400, 492, 492)\n",
            " [Patch 100/100] [Time Cost: 79 s] [ETA: 0 s]      \n",
            " \n",
            "[Epoch 2/3] [Batch 232/3024] [Total loss: 40527.80, L1 Loss: 195.08, L2 Loss: 80860.52] [ETA: 5:21:51] [Time cost: 10992 s]      "
          ]
        }
      ]
    },
    {
      "cell_type": "markdown",
      "source": [
        "## <font color=#FF8247>**Option 2: Start the testing process**</font>"
      ],
      "metadata": {
        "id": "ltA6wbPeCtFt"
      }
    },
    {
      "cell_type": "code",
      "source": [
        "from deepcad.test_collection import testing_class\n",
        "from deepcad.movie_display import display\n",
        "from deepcad.utils import get_first_filename, download_demo"
      ],
      "metadata": {
        "id": "p96ZCZ6wCzPL"
      },
      "execution_count": null,
      "outputs": []
    },
    {
      "cell_type": "markdown",
      "source": [
        "### Select file(s) to be processed (download if not present)\n",
        "*   The `download_demo` function will download the specific file for you and return the complete path to the image and the best pretrained model files,  which will be stored in your `/content/datasets` and `/content/pth` directory, respectively. \n",
        "\n",
        "*   If you adapt this demo for your own data, make sure to pass the datasets folder name of your file(s)."
      ],
      "metadata": {
        "id": "iZpYyVojFVu9"
      }
    },
    {
      "cell_type": "code",
      "source": [
        "download_demo_file = True\n",
        "if download_demo_file:\n",
        "    file_name='fish_localbrain' # select the demo file you want to test (e.g. 'ATP_3D', 'fish_localbrain', 'NP_3D', ...)\n",
        "    datasets_path, denoise_model =download_demo(download_filename=file_name)\n",
        "else:\n",
        "    datasets_path = 'datasets/2RPN-1000'    # folder containing files for testing\n",
        "    denoise_model = '2RPN_202112101128_ov_0.5' # A folder containing models to be tested"
      ],
      "metadata": {
        "id": "2iPngYrODd9_"
      },
      "execution_count": null,
      "outputs": []
    },
    {
      "cell_type": "markdown",
      "source": [
        "### Set up some parameters for testing\n",
        "Default setting shows the parameters suitable for demo file. You can change the testing parameters accroding to your testing data and device."
      ],
      "metadata": {
        "id": "XrJ5Nm1EFaSW"
      }
    },
    {
      "cell_type": "code",
      "source": [
        "test_datasize = 300                   # the number of slices to be tested\n",
        "GPU = '0'                        # the index of GPU you will use for computation (e.g. '0', '0,1', '0,1,2')\n",
        "patch_xyt = 150                     # the width, height, length of 3D patches (use isotropic patch size by default)\n",
        "overlap_factor = 0.4                   # the overlap factor between two adjacent patches\n",
        "num_workers = 2                     # if you use Windows system, set this to 0."
      ],
      "metadata": {
        "id": "tlRdRHgLDice"
      },
      "execution_count": null,
      "outputs": []
    },
    {
      "cell_type": "markdown",
      "source": [
        "### Create a testing class object with the specified parameters\n",
        "You will create a parameters object by passing all the parameters as a single dictionary. Parameters not defined in the dictionary will assume their default values. If you want to change these parameters, please refer to DeepCAD-RT Development mode."
      ],
      "metadata": {
        "id": "xwuEGn0BFdma"
      }
    },
    {
      "cell_type": "code",
      "source": [
        "test_dict = {\n",
        "    # dataset dependent parameters\n",
        "    'patch_x': patch_xyt,               # you can change these params if use anisotropy patch size\n",
        "    'patch_y': patch_xyt,\n",
        "    'patch_t': patch_xyt,\n",
        "    'overlap_factor':overlap_factor,\n",
        "    'scale_factor': 1,                 # the factor for image intensity scaling\n",
        "    'test_datasize': test_datasize,\n",
        "    'datasets_path': datasets_path,\n",
        "    'pth_dir': './pth',                # pth file root path\n",
        "    'denoise_model' : denoise_model,\n",
        "    'output_dir' : './results',            # result file root path\n",
        "    # network related parameters\n",
        "    'fmap': 16,                     # number of feature maps\n",
        "    'GPU': GPU,\n",
        "    'num_workers': num_workers,\n",
        "    'visualize_images_per_epoch': False,\n",
        "    'save_test_images_per_epoch': True\n",
        "}\n",
        "\n",
        "tc = testing_class(test_dict)"
      ],
      "metadata": {
        "colab": {
          "base_uri": "https://localhost:8080/"
        },
        "id": "ooKSzMBTDnwp",
        "outputId": "52eff028-f544-49db-f84f-401f514c34f6"
      },
      "execution_count": null,
      "outputs": [
        {
          "output_type": "stream",
          "name": "stdout",
          "text": [
            "\u001b[1;31mTesting parameters -----> \u001b[0m\n",
            "{'overlap_factor': 0.4, 'datasets_path': 'datasets/fish_localbrain_demo', 'fmap': 16, 'output_dir': './results', 'pth_dir': './pth', 'batch_size': 1, 'patch_t': 150, 'patch_x': 150, 'patch_y': 150, 'gap_y': 90, 'gap_x': 90, 'gap_t': 90, 'GPU': '0', 'ngpu': 1, 'num_workers': 2, 'scale_factor': 1, 'test_datasize': 300, 'denoise_model': 'fish_localbrain_best_model_demo', 'visualize_images_per_epoch': False, 'save_test_images_per_epoch': True}\n"
          ]
        }
      ]
    },
    {
      "cell_type": "markdown",
      "source": [
        "### Start testing\n",
        "The testing result can be downloaded in `/content/results` folder."
      ],
      "metadata": {
        "id": "eIYYoOrlFh_a"
      }
    },
    {
      "cell_type": "code",
      "source": [
        "tc.run()"
      ],
      "metadata": {
        "colab": {
          "base_uri": "https://localhost:8080/"
        },
        "id": "ives3zjkDsyY",
        "outputId": "337290e5-c046-4f85-d3bb-f021b06577d9"
      },
      "execution_count": null,
      "outputs": [
        {
          "output_type": "stream",
          "name": "stdout",
          "text": [
            "\u001b[1;31mStacks for processing -----> \u001b[0m\n",
            "Total stack number ----->  1\n",
            "fish_localbrain.tif\n",
            "\u001b[1;31mUsing 1 GPU(s) for testing -----> \u001b[0m\n",
            "[Model 1/1, best_model.pth] [Stack 1/1, fish_localbrain.tif] [Patch 75/75] [Time Cost: 57 s] [ETA: 0 s]      \n",
            " Test finished. Save all results to disk.\n"
          ]
        }
      ]
    },
    {
      "cell_type": "markdown",
      "source": [
        "---\n",
        "\n",
        "## Thank you for using DeepCAD-RT!"
      ],
      "metadata": {
        "id": "Ka4QXIXuUmER"
      }
    }
  ]
}