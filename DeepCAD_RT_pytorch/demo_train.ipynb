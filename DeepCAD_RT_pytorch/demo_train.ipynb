{
 "cells": [
  {
   "cell_type": "code",
   "execution_count": 1,
   "metadata": {},
   "outputs": [],
   "source": [
    "from deepcad.train_collection import training_class\n",
    "from deepcad.movie_display import display\n",
    "from deepcad.utils import get_first_filename,download_demo"
   ]
  },
  {
   "cell_type": "code",
   "execution_count": 2,
   "metadata": {},
   "outputs": [],
   "source": [
    "datasets_path='/data/yanhongwei/SIM/noisy/valid'"
   ]
  },
  {
   "cell_type": "code",
   "execution_count": 3,
   "metadata": {},
   "outputs": [],
   "source": [
    "n_epochs = 10               # the number of training epochs\n",
    "GPU = '0'                   # the index of GPU used for computation (e.g. '0', '0,1', '0,1,2')\n",
    "train_datasets_size = 6000  # dataset size for training (the number of patches)\n",
    "patch_xy = 150              # the width and height of 3D patches\n",
    "patch_t = 150               # the time dimension of 3D patches\n",
    "overlap_factor = 0.25       # the overlap factor between two adjacent patches\n",
    "pth_dir = '/data/yanhongwei/SSR_results'           # pth file and visualization result file path\n",
    "num_workers = 4             # if you use Windows system, set this to 0."
   ]
  },
  {
   "cell_type": "code",
   "execution_count": 4,
   "metadata": {},
   "outputs": [],
   "source": [
    "visualize_images_per_epoch = False  # choose whether to show inference performance after each epoch\n",
    "save_test_images_per_epoch = False  # choose whether to save inference image after each epoch in pth path"
   ]
  },
  {
   "cell_type": "code",
   "execution_count": null,
   "metadata": {},
   "outputs": [],
   "source": [
    "# playing the first noise movie using opencv.\n",
    "display_images = True\n",
    "\n",
    "if display_images:\n",
    "    display_filename = get_first_filename(datasets_path)\n",
    "    print('\\033[1;31mDisplaying the first raw file -----> \\033[0m')\n",
    "    print(display_filename)\n",
    "    display_length = 300  # the frames number of the noise movie\n",
    "    # normalize the image and display\n",
    "    # display(display_filename, display_length=display_length, norm_min_percent=1, norm_max_percent=98)\n"
   ]
  },
  {
   "cell_type": "code",
   "execution_count": 6,
   "metadata": {},
   "outputs": [],
   "source": [
    "train_dict = {\n",
    "    # dataset dependent parameters\n",
    "    'patch_x': patch_xy,\n",
    "    'patch_y': patch_xy,\n",
    "    'patch_t': patch_t,\n",
    "    'overlap_factor':overlap_factor,\n",
    "    'scale_factor': 1,                  # the factor for image intensity scaling\n",
    "    'select_img_num': 100000,           # select the number of images used for training (use all frames by default)\n",
    "    'train_datasets_size': train_datasets_size,\n",
    "    'datasets_path': datasets_path,\n",
    "    'pth_dir': pth_dir,\n",
    "    # network related parameters\n",
    "    'n_epochs': n_epochs,\n",
    "    'lr': 0.00005,                       # initial learning rate\n",
    "    'b1': 0.5,                           # Adam: bata1\n",
    "    'b2': 0.999,                         # Adam: bata2\n",
    "    'fmap': 16,                          # the number of feature maps\n",
    "    'GPU': GPU,\n",
    "    'num_workers': num_workers,\n",
    "    'visualize_images_per_epoch': visualize_images_per_epoch,\n",
    "    'save_test_images_per_epoch': save_test_images_per_epoch\n",
    "}"
   ]
  },
  {
   "cell_type": "code",
   "execution_count": null,
   "metadata": {},
   "outputs": [],
   "source": [
    "# %%% Training preparation\n",
    "# first we create a training class object with the specified parameters\n",
    "tc = training_class(train_dict)\n",
    "# start the training process\n",
    "tc.run()"
   ]
  }
 ],
 "metadata": {
  "kernelspec": {
   "display_name": "ssr",
   "language": "python",
   "name": "python3"
  },
  "language_info": {
   "codemirror_mode": {
    "name": "ipython",
    "version": 3
   },
   "file_extension": ".py",
   "mimetype": "text/x-python",
   "name": "python",
   "nbconvert_exporter": "python",
   "pygments_lexer": "ipython3",
   "version": "3.10.13"
  }
 },
 "nbformat": 4,
 "nbformat_minor": 2
}
